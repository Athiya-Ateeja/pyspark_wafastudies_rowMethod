{
 "cells": [
  {
   "cell_type": "markdown",
   "metadata": {
    "application/vnd.databricks.v1+cell": {
     "cellMetadata": {},
     "inputWidgets": {},
     "nuid": "5772c67e-846f-40bb-aa12-e46345fa18fb",
     "showTitle": false,
     "title": ""
    }
   },
   "source": [
    "##Row"
   ]
  },
  {
   "cell_type": "code",
   "execution_count": 0,
   "metadata": {
    "application/vnd.databricks.v1+cell": {
     "cellMetadata": {
      "byteLimit": 2048000,
      "rowLimit": 10000
     },
     "inputWidgets": {},
     "nuid": "4226011a-c9be-470b-ab78-e8ec9a6f031c",
     "showTitle": false,
     "title": ""
    }
   },
   "outputs": [],
   "source": [
    "from pyspark.sql import Row"
   ]
  },
  {
   "cell_type": "code",
   "execution_count": 0,
   "metadata": {
    "application/vnd.databricks.v1+cell": {
     "cellMetadata": {
      "byteLimit": 2048000,
      "rowLimit": 10000
     },
     "inputWidgets": {},
     "nuid": "b946d42d-7a70-4eda-a6ca-454e9d5cf333",
     "showTitle": false,
     "title": ""
    }
   },
   "outputs": [
    {
     "output_type": "stream",
     "name": "stdout",
     "output_type": "stream",
     "text": [
      "wafa 2000\n"
     ]
    }
   ],
   "source": [
    "row = Row('wafa' , 2000)\n",
    "print(row[0],row[1])"
   ]
  },
  {
   "cell_type": "code",
   "execution_count": 0,
   "metadata": {
    "application/vnd.databricks.v1+cell": {
     "cellMetadata": {
      "byteLimit": 2048000,
      "rowLimit": 10000
     },
     "inputWidgets": {},
     "nuid": "d0d19424-efec-4b1a-af23-f083cb468926",
     "showTitle": false,
     "title": ""
    }
   },
   "outputs": [
    {
     "output_type": "display_data",
     "data": {
      "text/plain": [
       "\u001B[0;31m---------------------------------------------------------------------------\u001B[0m\n",
       "\u001B[0;31mTypeError\u001B[0m                                 Traceback (most recent call last)\n",
       "File \u001B[0;32m<command-4220526563348959>:1\u001B[0m\n",
       "\u001B[0;32m----> 1\u001B[0m \u001B[38;5;28mprint\u001B[39m(\u001B[43mrow\u001B[49m\u001B[43m[\u001B[49m\u001B[38;5;241;43m0\u001B[39;49m\u001B[43m]\u001B[49m\u001B[38;5;241;43m+\u001B[39;49m\u001B[38;5;124;43m'\u001B[39;49m\u001B[38;5;124;43m \u001B[39;49m\u001B[38;5;124;43m'\u001B[39;49m\u001B[38;5;241;43m+\u001B[39;49m\u001B[43mrow\u001B[49m\u001B[43m[\u001B[49m\u001B[38;5;241;43m1\u001B[39;49m\u001B[43m]\u001B[49m)\n",
       "\n",
       "\u001B[0;31mTypeError\u001B[0m: can only concatenate str (not \"int\") to str"
      ]
     },
     "metadata": {
      "application/vnd.databricks.v1+output": {
       "arguments": {},
       "data": "\u001B[0;31m---------------------------------------------------------------------------\u001B[0m\n\u001B[0;31mTypeError\u001B[0m                                 Traceback (most recent call last)\nFile \u001B[0;32m<command-4220526563348959>:1\u001B[0m\n\u001B[0;32m----> 1\u001B[0m \u001B[38;5;28mprint\u001B[39m(\u001B[43mrow\u001B[49m\u001B[43m[\u001B[49m\u001B[38;5;241;43m0\u001B[39;49m\u001B[43m]\u001B[49m\u001B[38;5;241;43m+\u001B[39;49m\u001B[38;5;124;43m'\u001B[39;49m\u001B[38;5;124;43m \u001B[39;49m\u001B[38;5;124;43m'\u001B[39;49m\u001B[38;5;241;43m+\u001B[39;49m\u001B[43mrow\u001B[49m\u001B[43m[\u001B[49m\u001B[38;5;241;43m1\u001B[39;49m\u001B[43m]\u001B[49m)\n\n\u001B[0;31mTypeError\u001B[0m: can only concatenate str (not \"int\") to str",
       "errorSummary": "<span class='ansi-red-fg'>TypeError</span>: can only concatenate str (not \"int\") to str",
       "errorTraceType": "ansi",
       "metadata": {},
       "type": "ipynbError"
      }
     },
     "output_type": "display_data"
    }
   ],
   "source": [
    "print(row[0]+' '+row[1])"
   ]
  },
  {
   "cell_type": "code",
   "execution_count": 0,
   "metadata": {
    "application/vnd.databricks.v1+cell": {
     "cellMetadata": {
      "byteLimit": 2048000,
      "rowLimit": 10000
     },
     "inputWidgets": {},
     "nuid": "40fb8c85-0a57-4900-8ee1-eece793f96b3",
     "showTitle": false,
     "title": ""
    }
   },
   "outputs": [
    {
     "output_type": "stream",
     "name": "stdout",
     "output_type": "stream",
     "text": [
      "wafa 2000\n"
     ]
    }
   ],
   "source": [
    "print(row[0]+' '+str(row[1]))"
   ]
  },
  {
   "cell_type": "code",
   "execution_count": 0,
   "metadata": {
    "application/vnd.databricks.v1+cell": {
     "cellMetadata": {
      "byteLimit": 2048000,
      "rowLimit": 10000
     },
     "inputWidgets": {},
     "nuid": "4fa62609-b7d6-42c4-8fdb-c4df4efa6fb9",
     "showTitle": false,
     "title": ""
    }
   },
   "outputs": [
    {
     "output_type": "stream",
     "name": "stdout",
     "output_type": "stream",
     "text": [
      "+-------+----+\n|     _1|  _2|\n+-------+----+\n|   wafa|2000|\n|Studies|3000|\n+-------+----+\n\n"
     ]
    }
   ],
   "source": [
    "row1 = Row('wafa',2000)\n",
    "row2 = Row('Studies',3000)\n",
    "data = [row1,row2]\n",
    "df = spark.createDataFrame(data)\n",
    "df.show()"
   ]
  },
  {
   "cell_type": "code",
   "execution_count": 0,
   "metadata": {
    "application/vnd.databricks.v1+cell": {
     "cellMetadata": {
      "byteLimit": 2048000,
      "rowLimit": 10000
     },
     "inputWidgets": {},
     "nuid": "63594794-4f74-45e5-95a2-cf40be3aa0c1",
     "showTitle": false,
     "title": ""
    }
   },
   "outputs": [
    {
     "output_type": "stream",
     "name": "stdout",
     "output_type": "stream",
     "text": [
      "+-------+------+\n|   name|salary|\n+-------+------+\n|   wafa|  2000|\n|Studies|  3000|\n+-------+------+\n\n"
     ]
    }
   ],
   "source": [
    "row1 = Row(name = 'wafa', salary = 2000)\n",
    "row2 = Row(name = 'Studies',salary = 3000)\n",
    "data = [row1,row2]\n",
    "df = spark.createDataFrame(data)\n",
    "df.show()"
   ]
  },
  {
   "cell_type": "code",
   "execution_count": 0,
   "metadata": {
    "application/vnd.databricks.v1+cell": {
     "cellMetadata": {
      "byteLimit": 2048000,
      "rowLimit": 10000
     },
     "inputWidgets": {},
     "nuid": "619d06f5-e69e-466a-bbb7-a53202b5595b",
     "showTitle": false,
     "title": ""
    }
   },
   "outputs": [
    {
     "output_type": "stream",
     "name": "stdout",
     "output_type": "stream",
     "text": [
      "wafa\n"
     ]
    }
   ],
   "source": [
    "row = Row('name','age')\n",
    "person1 = row('wafa',30)\n",
    "person2 = row('studies',35)\n",
    "print(person1.name)"
   ]
  },
  {
   "cell_type": "code",
   "execution_count": 0,
   "metadata": {
    "application/vnd.databricks.v1+cell": {
     "cellMetadata": {
      "byteLimit": 2048000,
      "rowLimit": 10000
     },
     "inputWidgets": {},
     "nuid": "7ec65b3f-131b-4846-aaee-6086ee107c83",
     "showTitle": false,
     "title": ""
    }
   },
   "outputs": [
    {
     "output_type": "display_data",
     "data": {
      "text/plain": [
       "\u001B[0;31m---------------------------------------------------------------------------\u001B[0m\n",
       "\u001B[0;31mTypeError\u001B[0m                                 Traceback (most recent call last)\n",
       "File \u001B[0;32m<command-4220526563348965>:4\u001B[0m\n",
       "\u001B[1;32m      2\u001B[0m person1 \u001B[38;5;241m=\u001B[39m row(\u001B[38;5;124m'\u001B[39m\u001B[38;5;124mwafa\u001B[39m\u001B[38;5;124m'\u001B[39m,\u001B[38;5;241m30\u001B[39m)\n",
       "\u001B[1;32m      3\u001B[0m person2 \u001B[38;5;241m=\u001B[39m row(\u001B[38;5;124m'\u001B[39m\u001B[38;5;124mstudies\u001B[39m\u001B[38;5;124m'\u001B[39m,\u001B[38;5;241m35\u001B[39m)\n",
       "\u001B[0;32m----> 4\u001B[0m \u001B[38;5;28mprint\u001B[39m(person1\u001B[38;5;241m.\u001B[39mname\u001B[38;5;241m+\u001B[39m\u001B[38;5;124m'\u001B[39m\u001B[38;5;124m \u001B[39m\u001B[38;5;124m'\u001B[39m\u001B[38;5;241m+\u001B[39mperson2\u001B[38;5;241m.\u001B[39mage)\n",
       "\n",
       "\u001B[0;31mTypeError\u001B[0m: can only concatenate str (not \"int\") to str"
      ]
     },
     "metadata": {
      "application/vnd.databricks.v1+output": {
       "arguments": {},
       "data": "\u001B[0;31m---------------------------------------------------------------------------\u001B[0m\n\u001B[0;31mTypeError\u001B[0m                                 Traceback (most recent call last)\nFile \u001B[0;32m<command-4220526563348965>:4\u001B[0m\n\u001B[1;32m      2\u001B[0m person1 \u001B[38;5;241m=\u001B[39m row(\u001B[38;5;124m'\u001B[39m\u001B[38;5;124mwafa\u001B[39m\u001B[38;5;124m'\u001B[39m,\u001B[38;5;241m30\u001B[39m)\n\u001B[1;32m      3\u001B[0m person2 \u001B[38;5;241m=\u001B[39m row(\u001B[38;5;124m'\u001B[39m\u001B[38;5;124mstudies\u001B[39m\u001B[38;5;124m'\u001B[39m,\u001B[38;5;241m35\u001B[39m)\n\u001B[0;32m----> 4\u001B[0m \u001B[38;5;28mprint\u001B[39m(person1\u001B[38;5;241m.\u001B[39mname\u001B[38;5;241m+\u001B[39m\u001B[38;5;124m'\u001B[39m\u001B[38;5;124m \u001B[39m\u001B[38;5;124m'\u001B[39m\u001B[38;5;241m+\u001B[39mperson2\u001B[38;5;241m.\u001B[39mage)\n\n\u001B[0;31mTypeError\u001B[0m: can only concatenate str (not \"int\") to str",
       "errorSummary": "<span class='ansi-red-fg'>TypeError</span>: can only concatenate str (not \"int\") to str",
       "errorTraceType": "ansi",
       "metadata": {},
       "type": "ipynbError"
      }
     },
     "output_type": "display_data"
    }
   ],
   "source": [
    "row = Row('name','age')\n",
    "person1 = row('wafa',30)\n",
    "person2 = row('studies',35)\n",
    "print(person1.name+' '+person2.age)"
   ]
  },
  {
   "cell_type": "code",
   "execution_count": 0,
   "metadata": {
    "application/vnd.databricks.v1+cell": {
     "cellMetadata": {
      "byteLimit": 2048000,
      "rowLimit": 10000
     },
     "inputWidgets": {},
     "nuid": "95947d70-d26c-4e45-8703-7941bc2d40e8",
     "showTitle": false,
     "title": ""
    }
   },
   "outputs": [
    {
     "output_type": "stream",
     "name": "stdout",
     "output_type": "stream",
     "text": [
      "wafa 35\n"
     ]
    }
   ],
   "source": [
    "row = Row('name','age')\n",
    "person1 = row('wafa',30)\n",
    "person2 = row('studies',35)\n",
    "print(person1.name+' '+str(person2.age))"
   ]
  },
  {
   "cell_type": "code",
   "execution_count": 0,
   "metadata": {
    "application/vnd.databricks.v1+cell": {
     "cellMetadata": {
      "byteLimit": 2048000,
      "rowLimit": 10000
     },
     "inputWidgets": {},
     "nuid": "ed43d225-3343-46a1-b8bd-8546bc03c620",
     "showTitle": false,
     "title": ""
    }
   },
   "outputs": [
    {
     "output_type": "stream",
     "name": "stdout",
     "output_type": "stream",
     "text": [
      "+-------+---+\n|   name|age|\n+-------+---+\n|   wafa| 30|\n|studies| 35|\n+-------+---+\n\n"
     ]
    }
   ],
   "source": [
    "row = Row('name','age')\n",
    "person1 = row('wafa',30)\n",
    "person2 = row('studies',35)\n",
    "df = spark.createDataFrame([person1,person2])\n",
    "df.show()"
   ]
  },
  {
   "cell_type": "code",
   "execution_count": 0,
   "metadata": {
    "application/vnd.databricks.v1+cell": {
     "cellMetadata": {
      "byteLimit": 2048000,
      "rowLimit": 10000
     },
     "inputWidgets": {},
     "nuid": "40815c42-66ba-471d-9f32-f7b63921ef07",
     "showTitle": false,
     "title": ""
    }
   },
   "outputs": [
    {
     "output_type": "stream",
     "name": "stdout",
     "output_type": "stream",
     "text": [
      "+------+-------------+\n|  name|         prop|\n+------+-------------+\n|  wafa|{black, blue}|\n|maheer|{grey, black}|\n+------+-------------+\n\nroot\n |-- name: string (nullable = true)\n |-- prop: struct (nullable = true)\n |    |-- hair: string (nullable = true)\n |    |-- eye: string (nullable = true)\n\n"
     ]
    }
   ],
   "source": [
    "data = [Row(name = 'wafa', prop = Row(hair = 'black', eye = 'blue')),\n",
    "        Row(name = 'maheer' , prop = Row(hair = 'grey' , eye ='black'))]\n",
    "df = spark.createDataFrame(data)\n",
    "df.show()\n",
    "df.printSchema()"
   ]
  }
 ],
 "metadata": {
  "application/vnd.databricks.v1+notebook": {
   "dashboards": [],
   "language": "python",
   "notebookMetadata": {
    "pythonIndentUnit": 4
   },
   "notebookName": "rowMethod",
   "widgets": {}
  }
 },
 "nbformat": 4,
 "nbformat_minor": 0
}
